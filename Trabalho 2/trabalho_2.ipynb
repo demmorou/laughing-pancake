{
 "cells": [
  {
   "cell_type": "markdown",
   "metadata": {},
   "source": [
    "# Atividades"
   ]
  },
  {
   "cell_type": "markdown",
   "metadata": {},
   "source": [
    "1) Leia uma imagem colorida, transforme a mesma em níveis de cinza e salve o resultado em disco. "
   ]
  },
  {
   "cell_type": "code",
   "execution_count": null,
   "metadata": {},
   "outputs": [],
   "source": [
    "from skimage.io import imread as read, imsave\n",
    "from skimage.color import rgb2gray\n",
    "import matplotlib.pyplot as plt\n",
    "%matplotlib inline\n",
    "\n",
    "# load image\n",
    "image = read('imagem.jpg')\n",
    "# convert image\n",
    "image_gray = rgb2gray(image)\n",
    "# saving image\n",
    "imsave('imagem_gray.png',image_gray)\n",
    "# show image\n",
    "plt.figure(figsize=(10,20))\n",
    "plt.imshow(image_gray, cmap='gray')\n",
    "plt.title('Image in grayscale')"
   ]
  },
  {
   "cell_type": "markdown",
   "metadata": {},
   "source": [
    "2) Leia uma imagem colorida, transforme a mesma em níveis de cinza. Após isso, atribua o valor zero a todos os pixels cujo vizinho à direita tenha o mesmo valor de intensidade. Salve o resultado em disco."
   ]
  },
  {
   "cell_type": "code",
   "execution_count": null,
   "metadata": {},
   "outputs": [],
   "source": [
    "rows, cols = image_gray.shape\n",
    "\n",
    "for i in range(rows):\n",
    "    for j in range(cols):\n",
    "        if (j+1 < cols):\n",
    "            if (image_gray[i,j] == (image_gray[i,j+1])):\n",
    "                image_gray[i,j] = 0\n",
    "\n",
    "imsave('image_pixel_right.png', image_gray)        \n",
    "        \n",
    "plt.figure(figsize=(10,20))\n",
    "plt.imshow(image_gray[:,:],cmap='gray')\n",
    "plt.title('New image')"
   ]
  },
  {
   "cell_type": "markdown",
   "metadata": {},
   "source": [
    "3) Leia uma imagem colorida, calcule as componentes no modelo de cores RGB. Calcule a maior e menor intensidade dos pixels em cada componente."
   ]
  },
  {
   "cell_type": "code",
   "execution_count": null,
   "metadata": {},
   "outputs": [],
   "source": [
    "from skimage.io import imread as read\n",
    "image = read('imagem.jpg')\n",
    "\n",
    "# RGB\n",
    "red = image[:,:,0]\n",
    "green = image[:,:,1]\n",
    "blue = image[:,:,2]\n",
    "\n",
    "max_red = red[0,0]\n",
    "max_green = green[0,0]\n",
    "max_blue = blue[0,0]\n",
    "\n",
    "min_red = red[0,0]\n",
    "min_green = green[0,0]\n",
    "min_blue = blue[0,0]\n",
    "\n",
    "rows,cols,dim = image.shape\n",
    "\n",
    "for i in range(rows):\n",
    "    for l in range(cols):\n",
    "        # max value\n",
    "        if red[i,j] > max_red:\n",
    "            max_red = red[i,j]\n",
    "        if green[i,j] > max_green:\n",
    "            max_green = green[i,j]\n",
    "        if blue[i,j] > max_blue:\n",
    "            max_blue = blue[i,j]\n",
    "        # min value\n",
    "        if red[i,j] < min_red:\n",
    "            min_red = red[i,j]\n",
    "        if green[i,j] < min_green:\n",
    "            min_green = green[i,j]\n",
    "        if blue[i,j] < min_blue:\n",
    "            min_blue = blue[i,j]     \n",
    "            \n",
    "# Result\n",
    "min_red, min_green, min_blue, max_red, max_green, max_blue"
   ]
  },
  {
   "cell_type": "markdown",
   "metadata": {},
   "source": [
    "4) Leia uma imagem colorida, calcule as componentes no modelo de cores RGB.  Atribua o valor 255 a todos os pixels com intensidade maior que 150, faça isso em cada componente. Após isso, junte as componentes para formar uma imagem colorida novamente e salve o resultado."
   ]
  },
  {
   "cell_type": "code",
   "execution_count": null,
   "metadata": {},
   "outputs": [],
   "source": [
    "from skimage.io import imread as read\n",
    "import cv2\n",
    "\n",
    "image = read('imagem.jpg')\n",
    "\n",
    "rows, cols, dim = image.shape\n",
    "\n",
    "for i in range(rows):\n",
    "    for j in range(cols):\n",
    "        if image[i,j,0] > 150:\n",
    "            image[i,j,0] = 255\n",
    "        if image[i,j,1] > 150:\n",
    "            image[i,j,1] = 255\n",
    "        if image[i,j,2] > 150:\n",
    "            image[i,j,2] = 255\n",
    "\n",
    "# Joining the images\n",
    "new_image = cv2.merge([image[:, :, 0], image[:, :, 1], image[:, :, 2]])\n",
    "\n",
    "# Printing the images\n",
    "fig, ax = plt.subplots(4,1,figsize = (10,20), sharex=True)\n",
    "ax[0].imshow(image[:,:,0],cmap = 'gray')\n",
    "ax[0].set_title('Red')\n",
    "ax[1].imshow(image[:,:,1],cmap = 'gray')\n",
    "ax[1].set_title('Green')\n",
    "ax[2].imshow(image[:,:,2],cmap = 'gray')\n",
    "ax[2].set_title('Blue')\n",
    "ax[3].imshow(new_image)\n",
    "ax[3].set_title('New image')"
   ]
  },
  {
   "cell_type": "markdown",
   "metadata": {},
   "source": [
    "5) Aplique ruído em uma imagem utilizando a função \"skimage.util.random_noise\" com os seguites parâmentros: ‘s&p’,‘gaussian’ e ‘speckle’. Cada um desses parâmetros irá gerar uma imagem com ruído. Após isso, aplique funções disponíveis em 'skimage.restoration' para recuperar as imagens."
   ]
  },
  {
   "cell_type": "code",
   "execution_count": null,
   "metadata": {},
   "outputs": [],
   "source": [
    "from skimage.util import random_noise\n",
    "from skimage.restoration import denoise_tv_chambolle, denoise_nl_means, denoise_bilateral\n",
    "from skimage.io import imread as read\n",
    "\n",
    "imagem = read('imagem.jpg')\n",
    "\n",
    "image_sEp = random_noise(image, mode='s&p')\n",
    "image_gaussian = random_noise(image, mode='gaussian')\n",
    "image_speckle = random_noise(image, mode='speckle')\n",
    "\n",
    "fig, ax = plt.subplots(3,1,figsize = (10,20), sharex=True)\n",
    "ax[0].imshow(image_sEp)\n",
    "ax[0].set_title('S&P')\n",
    "ax[1].imshow(image_gaussian)\n",
    "ax[1].set_title('Gaussian')\n",
    "ax[2].imshow(image_speckle)\n",
    "ax[2].set_title('Speckle')\n",
    "\n",
    "denoise_bilateral_filter = denoise_bilateral(image_sEp)\n",
    "denoise_nl_means_filter = denoise_nl_means(image_gaussian, 5)\n",
    "denoise_tv_chambolle_filter = denoise_tv_chambolle(image_speckle)\n",
    "\n",
    "fig, az = plt.subplots(3,1,figsize = (10,20), sharex=True)\n",
    "az[0].imshow(denoise_bilateral_filter)\n",
    "az[0].set_title('denoise_bilateral with s&p')\n",
    "az[1].imshow(denoise_nl_means_filter)\n",
    "az[1].set_title('denoise_nl_means with Gaussian (window 5)')\n",
    "az[2].imshow(denoise_tv_chambolle_filter)\n",
    "az[2].set_title('filter_denoise_tv_chambolle with Speckle)')\n",
    "\n"
   ]
  },
  {
   "cell_type": "markdown",
   "metadata": {},
   "source": [
    "6) Aplique pelo menos 4 métodos diferentes para binarizar uma imagem ('skimage.filters')."
   ]
  },
  {
   "cell_type": "code",
   "execution_count": null,
   "metadata": {},
   "outputs": [],
   "source": [
    "from skimage.filters import threshold_otsu, threshold_yen, threshold_li, threshold_triangle\n",
    "from skimage.color import rgb2gray\n",
    "from skimage.io import imread as read\n",
    "import matplotlib.pyplot as plt\n",
    "%matplotlib inline\n",
    "\n",
    "image = read('imagem.jpg')\n",
    "image_gray = rgb2gray(image)\n",
    "\n",
    "# Otsu\n",
    "otsu = threshold_otsu(image_gray)\n",
    "new_otsu = image_gray < otsu \n",
    "\n",
    "# Sobel\n",
    "thresh = threshold_yen(image_gray)\n",
    "yen = image_gray <= thresh\n",
    "\n",
    "# Li\n",
    "thresh = threshold_li(image_gray)\n",
    "li = image_gray > thresh\n",
    "\n",
    "#Minimum\n",
    "thresh = threshold_triangle(image_gray)\n",
    "tr = image_gray > thresh\n",
    "\n",
    "plt.figure(figsize=(10,20))\n",
    "plt.imshow(new_otsu, cmap = 'gray')\n",
    "plt.title('Ostsu')\n",
    "\n",
    "plt.figure(figsize=(10,20))\n",
    "plt.imshow(yen, cmap = 'gray')\n",
    "plt.title('Yen')\n",
    "\n",
    "plt.figure(figsize=(10,20))\n",
    "plt.imshow(li, cmap = 'gray')\n",
    "plt.title('Li')\n",
    "\n",
    "plt.figure(figsize=(10,20))\n",
    "plt.imshow(tr, cmap = 'gray')\n",
    "plt.title('Triangle')"
   ]
  },
  {
   "cell_type": "markdown",
   "metadata": {},
   "source": [
    "7) Aplique pelo menos 4 métodos diferentes ('skimage.filters') para calcular as bordas de uma imagem utilizando como entrada o resultado da questão anterior."
   ]
  },
  {
   "cell_type": "code",
   "execution_count": null,
   "metadata": {},
   "outputs": [],
   "source": [
    "from skimage.filters import sobel, scharr, prewitt, roberts\n",
    "\n",
    "# Borders with Otsu\n",
    "filter_sobel_otsu = sobel(new_otsu)\n",
    "filter_prewitt_otsu = prewitt(new_otsu)\n",
    "filter_scharr_otsu = scharr(new_otsu)\n",
    "filter_roberts_otsu = roberts(new_otsu)\n",
    "\n",
    "# Borders with Yen\n",
    "filter_sobel_yen = sobel(yen)\n",
    "filter_prewitt_yen = prewitt(yen)\n",
    "filter_scharr_yen = scharr(yen)\n",
    "filter_roberts_yen = roberts(yen)\n",
    "\n",
    "# Borders with Li\n",
    "filter_sobel_li = sobel(li)\n",
    "filter_prewitt_li = prewitt(li)\n",
    "filter_scharr_li = scharr(li)\n",
    "filter_roberts_li = roberts(li)\n",
    "\n",
    "# Borders with Triangle\n",
    "filter_sobel_tr = sobel(tr)\n",
    "filter_prewitt_tr = prewitt(tr)\n",
    "filter_scharr_tr = scharr(tr)\n",
    "filter_roberts_tr = roberts(tr)\n",
    "\n",
    "fig, ax = plt.subplots(16,1,figsize = (90,100), sharex=False)\n",
    "ax[0].imshow(filter_sobel_otsu,cmap = 'gray')\n",
    "ax[0].set_title('Sobel with Otsu')\n",
    "ax[1].imshow(filter_prewitt_otsu,cmap = 'gray')\n",
    "ax[1].set_title('Prewitt with Otsu')\n",
    "ax[2].imshow(filter_scharr_otsu,cmap = 'gray')\n",
    "ax[2].set_title('Scharr with Otsu')\n",
    "ax[3].imshow(filter_roberts_otsu,cmap ='gray')\n",
    "ax[3].set_title('Roberts with Otsu')\n",
    "\n",
    "ax[4].imshow(filter_sobel_yen,cmap = 'gray')\n",
    "ax[4].set_title('Sobel with Yen')\n",
    "ax[5].imshow(filter_prewitt_yen,cmap = 'gray')\n",
    "ax[5].set_title('Prewitt with Yen')\n",
    "ax[6].imshow(filter_scharr_yen,cmap = 'gray')\n",
    "ax[6].set_title('Scharr with Yen')\n",
    "ax[7].imshow(filter_roberts_yen,cmap ='gray')\n",
    "ax[7].set_title('Roberts with Yen')\n",
    "\n",
    "ax[8].imshow(filter_sobel_li,cmap = 'gray')\n",
    "ax[8].set_title('Sobel with Li')\n",
    "ax[9].imshow(filter_prewitt_li,cmap = 'gray')\n",
    "ax[9].set_title('Prewitt with Li')\n",
    "ax[10].imshow(filter_scharr_li,cmap = 'gray')\n",
    "ax[10].set_title('Scharr with Li')\n",
    "ax[11].imshow(filter_roberts_li,cmap ='gray')\n",
    "ax[11].set_title('Roberts  with Li')\n",
    "\n",
    "ax[12].imshow(filter_sobel_tr,cmap = 'gray')\n",
    "ax[12].set_title('Sobel with Triangle')\n",
    "ax[13].imshow(filter_prewitt_tr,cmap = 'gray')\n",
    "ax[13].set_title('Prewitt with Triangle')\n",
    "ax[14].imshow(filter_scharr_tr,cmap = 'gray')\n",
    "ax[14].set_title('Scharr with Triangle')\n",
    "ax[15].imshow(filter_roberts_tr,cmap ='gray')\n",
    "ax[15].set_title('Roberts with Triangle')\n"
   ]
  },
  {
   "cell_type": "code",
   "execution_count": null,
   "metadata": {},
   "outputs": [],
   "source": []
  }
 ],
 "metadata": {
  "kernelspec": {
   "display_name": "Python 3",
   "language": "python",
   "name": "python3"
  },
  "language_info": {
   "codemirror_mode": {
    "name": "ipython",
    "version": 3
   },
   "file_extension": ".py",
   "mimetype": "text/x-python",
   "name": "python",
   "nbconvert_exporter": "python",
   "pygments_lexer": "ipython3",
   "version": "3.6.5"
  }
 },
 "nbformat": 4,
 "nbformat_minor": 1
}
