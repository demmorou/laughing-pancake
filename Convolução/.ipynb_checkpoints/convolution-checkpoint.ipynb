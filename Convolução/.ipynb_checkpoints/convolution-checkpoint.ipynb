{
 "cells": [
  {
   "cell_type": "code",
   "execution_count": 48,
   "metadata": {},
   "outputs": [],
   "source": [
    "import numpy as np\n",
    "\n",
    "def Conv(image, janela):\n",
    "    new_row = int((janela-1)/2) * 2\n",
    "    window = int((janela-1)/2)\n",
    "    rows = image.shape[0]\n",
    "    cols = image.shape[1]\n",
    "    \n",
    "    aux = np.zeros((rows + new_row, cols + new_row), dtype=np.float64)\n",
    "    \n",
    "    for i in range(image.shape[0]):\n",
    "        for j in range(image.shape[1]):\n",
    "            aux[i+new_row][j+new_row] = image[i][j]\n",
    "\n",
    "    for i in range(window, rows-window):\n",
    "        for j in range(window, cols-window):\n",
    "            soma = 0\n",
    "            for x in range(i-window, i+window+1):\n",
    "                for y in range(j-window, j+window+1):\n",
    "                    soma += aux[x][y]\n",
    "            aux[i][j] = soma/(janela * janela)\n",
    "            \n",
    "    return aux"
   ]
  },
  {
   "cell_type": "code",
   "execution_count": 49,
   "metadata": {},
   "outputs": [
    {
     "name": "stderr",
     "output_type": "stream",
     "text": [
      "/home/pavic/anaconda3/lib/python3.6/site-packages/skimage/util/dtype.py:122: UserWarning: Possible precision loss when converting from float64 to uint16\n",
      "  .format(dtypeobj_in, dtypeobj_out))\n"
     ]
    },
    {
     "name": "stdout",
     "output_type": "stream",
     "text": [
      "(832, 1100)\n",
      "(834, 1102)\n"
     ]
    }
   ],
   "source": [
    "from skimage.io import imread, imsave\n",
    "from skimage.color import rgb2gray\n",
    "\n",
    "image = imread(\"image.jpg\")\n",
    "image_gray = rgb2gray(image)\n",
    "\n",
    "imsave(\"new_image.png\", image_gray)\n",
    "\n",
    "image2 = Conv(image_gray, 3)\n",
    "print(image_gray.shape)\n",
    "print(image2.shape)\n",
    "imsave(\"conv5.png\", Conv(image_gray, 3))\n"
   ]
  },
  {
   "cell_type": "code",
   "execution_count": null,
   "metadata": {},
   "outputs": [],
   "source": []
  }
 ],
 "metadata": {
  "kernelspec": {
   "display_name": "Python 3",
   "language": "python",
   "name": "python3"
  },
  "language_info": {
   "codemirror_mode": {
    "name": "ipython",
    "version": 3
   },
   "file_extension": ".py",
   "mimetype": "text/x-python",
   "name": "python",
   "nbconvert_exporter": "python",
   "pygments_lexer": "ipython3",
   "version": "3.6.5"
  }
 },
 "nbformat": 4,
 "nbformat_minor": 2
}
